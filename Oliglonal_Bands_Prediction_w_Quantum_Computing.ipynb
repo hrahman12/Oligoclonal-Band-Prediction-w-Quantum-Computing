{
  "nbformat": 4,
  "nbformat_minor": 0,
  "metadata": {
    "colab": {
      "provenance": []
    },
    "kernelspec": {
      "name": "python3",
      "display_name": "Python 3"
    },
    "language_info": {
      "name": "python"
    }
  },
  "cells": [
    {
      "cell_type": "markdown",
      "source": [
        "# No Olicoclonal Bands"
      ],
      "metadata": {
        "id": "DWxxC9fe6ljf"
      }
    },
    {
      "cell_type": "code",
      "source": [
        "import numpy as np\n",
        "import pandas as pd\n",
        "import cirq\n",
        "from sklearn.linear_model import LogisticRegression\n",
        "from sklearn.model_selection import train_test_split\n",
        "from sklearn.metrics import accuracy_score\n",
        "\n",
        "# Example synthetic dataset\n",
        "data = pd.DataFrame({\n",
        "    'CSF_IgG': np.random.uniform(2, 10, 50),  # Random values for demonstration\n",
        "    'CSF_Albumin': np.random.uniform(10, 30, 50),\n",
        "    'Serum_IgG': np.random.uniform(5, 15, 50),\n",
        "    'Serum_Albumin': np.random.uniform(40, 50, 50),\n",
        "    'has_ocb': np.random.randint(0, 2, 50)  # Random binary labels\n",
        "})\n",
        "\n",
        "# Calculate IgG Index\n",
        "data['IgG_Index'] = (data['CSF_IgG'] / data['Serum_IgG']) / (data['CSF_Albumin'] / data['Serum_Albumin'])\n",
        "\n",
        "# Prepare features and labels\n",
        "X = data[['IgG_Index']].values\n",
        "y = data['has_ocb'].values"
      ],
      "metadata": {
        "id": "lc1lG-Ne5U_e"
      },
      "execution_count": 12,
      "outputs": []
    },
    {
      "cell_type": "markdown",
      "source": [
        "# Oliclonal Bands Present"
      ],
      "metadata": {
        "id": "Mj0xIkUX6kym"
      }
    },
    {
      "cell_type": "code",
      "source": [
        "# Creating a synthetic dataset with a specific case having oligoclonal bands\n",
        "data = pd.DataFrame({\n",
        "    'CSF_IgG': np.random.uniform(2, 10, 49).tolist() + [15.0],  # Add a high value to ensure OCB presence\n",
        "    'CSF_Albumin': np.random.uniform(10, 30, 49).tolist() + [25.0],\n",
        "    'Serum_IgG': np.random.uniform(5, 15, 49).tolist() + [12.0],\n",
        "    'Serum_Albumin': np.random.uniform(40, 50, 49).tolist() + [45.0],\n",
        "    'has_ocb': np.random.randint(0, 2, 49).tolist() + [1]  # Add a case with OCB\n",
        "})\n",
        "\n",
        "# Calculate IgG Index\n",
        "data['IgG_Index'] = (data['CSF_IgG'] / data['Serum_IgG']) / (data['CSF_Albumin'] / data['Serum_Albumin'])\n",
        "\n",
        "# Prepare features and labels\n",
        "X = data[['IgG_Index']].values\n",
        "y = data['has_ocb'].values"
      ],
      "metadata": {
        "id": "plwxByH06vym"
      },
      "execution_count": 15,
      "outputs": []
    },
    {
      "cell_type": "code",
      "source": [
        "# Quantum feature extraction\n",
        "def create_quantum_circuit(value):\n",
        "    qubits = cirq.LineQubit.range(1)\n",
        "    circuit = cirq.Circuit()\n",
        "    angle = 2 * np.pi * value\n",
        "    circuit.append(cirq.ry(angle)(qubits[0]))\n",
        "    circuit.append(cirq.measure(qubits[0], key='result'))\n",
        "    return circuit\n",
        "\n",
        "def simulate_circuit(circuit):\n",
        "    simulator = cirq.Simulator()\n",
        "    result = simulator.run(circuit, repetitions=1000)\n",
        "    counts = result.histogram(key='result')\n",
        "    return counts\n",
        "\n",
        "def extract_quantum_features(data):\n",
        "    features = []\n",
        "    for value in data:\n",
        "        circuit = create_quantum_circuit(value)\n",
        "        counts = simulate_circuit(circuit)\n",
        "        feature_value = np.mean(list(counts.values()))\n",
        "        features.append(feature_value)\n",
        "    return np.array(features).reshape(-1, 1)\n",
        "\n",
        "# Extract quantum features from data\n",
        "quantum_features = extract_quantum_features(X.flatten())"
      ],
      "metadata": {
        "id": "kB2OyA5n5WW5"
      },
      "execution_count": 16,
      "outputs": []
    },
    {
      "cell_type": "code",
      "source": [
        "# Split data ensuring both classes are represented\n",
        "X_train, X_test, y_train, y_test = train_test_split(quantum_features, y, test_size=0.3, random_state=42)\n",
        "\n",
        "# Train a classical model using quantum features\n",
        "model = LogisticRegression()\n",
        "model.fit(X_train, y_train)\n",
        "\n",
        "# Predict\n",
        "y_pred_prob = model.predict_proba(X_test)[:, 1]  # Probability of class 1\n",
        "print(\"Predicted probabilities:\", y_pred_prob)\n",
        "\n",
        "# Threshold-based decision\n",
        "threshold = 0.5\n",
        "y_pred = (y_pred_prob > threshold).astype(int)\n",
        "\n",
        "print(\"Predictions:\", y_pred)\n",
        "print(\"Accuracy:\", accuracy_score(y_test, y_pred))\n",
        "\n",
        "# Print a simple message based on the test predictions\n",
        "if np.any(y_pred == 1):\n",
        "    print(\"Yes, there are oligoclonal bands present in the test set.\")\n",
        "else:\n",
        "    print(\"No, there are no oligoclonal bands present in the test set.\")"
      ],
      "metadata": {
        "colab": {
          "base_uri": "https://localhost:8080/"
        },
        "id": "gqbPHjMv5dZ7",
        "outputId": "8c8ad698-93c8-47ec-9731-d358ed40751b"
      },
      "execution_count": 17,
      "outputs": [
        {
          "output_type": "stream",
          "name": "stdout",
          "text": [
            "Predicted probabilities: [0.53124988 0.53124988 0.53124988 0.53124988 0.53124988 0.53124988\n",
            " 0.53124988 0.53124988 0.53124988 0.53124988 0.53124988 0.66666569\n",
            " 0.53124988 0.53124988 0.53124988]\n",
            "Predictions: [1 1 1 1 1 1 1 1 1 1 1 1 1 1 1]\n",
            "Accuracy: 0.5333333333333333\n",
            "Yes, there are oligoclonal bands present in the test set.\n"
          ]
        }
      ]
    }
  ]
}